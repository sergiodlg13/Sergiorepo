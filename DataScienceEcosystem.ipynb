{
 "cells": [
  {
   "cell_type": "markdown",
   "id": "a8830c7f",
   "metadata": {},
   "source": [
    "# Data Science Tools and Ecosystem"
   ]
  },
  {
   "cell_type": "markdown",
   "id": "d08f5923",
   "metadata": {},
   "source": [
    "## In this notebook, Data Science Tools and Ecosystem are summarized."
   ]
  },
  {
   "cell_type": "markdown",
   "id": "2074d2d7",
   "metadata": {},
   "source": [
    "## *Objectives*\n",
    "### - *List Popular languages for data Science*\n",
    "### - *List Commonly used Libraries*\n",
    "### - *List commonly used arithmetic expressions*\n"
   ]
  },
  {
   "cell_type": "markdown",
   "id": "83e575d1",
   "metadata": {},
   "source": [
    "### Some of the popular languages that Data Scientists use are: "
   ]
  },
  {
   "cell_type": "markdown",
   "id": "1c2d458b",
   "metadata": {},
   "source": [
    "### 1) Python"
   ]
  },
  {
   "cell_type": "markdown",
   "id": "8da6dde8",
   "metadata": {},
   "source": [
    "### 2) R"
   ]
  },
  {
   "cell_type": "markdown",
   "id": "f2d63290",
   "metadata": {},
   "source": [
    "### 3) Scala "
   ]
  },
  {
   "cell_type": "markdown",
   "id": "23fceef7",
   "metadata": {},
   "source": [
    "### Some of the commonly used libraries used by Data Scientists include:"
   ]
  },
  {
   "cell_type": "markdown",
   "id": "02874848",
   "metadata": {},
   "source": [
    "### 1) NumPy "
   ]
  },
  {
   "cell_type": "markdown",
   "id": "4a4f84e9",
   "metadata": {},
   "source": [
    "### 2) Pandas"
   ]
  },
  {
   "cell_type": "markdown",
   "id": "6ec03d66",
   "metadata": {},
   "source": [
    "### 3) Matplotlib "
   ]
  },
  {
   "cell_type": "markdown",
   "id": "6fffa30c",
   "metadata": {},
   "source": [
    "## Table with Data Science Tools"
   ]
  },
  {
   "cell_type": "markdown",
   "id": "d6f33d43",
   "metadata": {},
   "source": [
    "|Data Science Tools|\n",
    "|----|\n",
    "|Python|\n",
    "|R|\n",
    "|SQL|"
   ]
  },
  {
   "cell_type": "markdown",
   "id": "9da2b008",
   "metadata": {},
   "source": [
    "### Below are a few examples of evaluating arithmetic expressions in Python\n",
    "#### +  Addition\n",
    "#### - Subtraction\n",
    "#### * Multiplication\n",
    "#### / Division\n",
    "#### // Quotient\n",
    "#### % Remainder\n",
    "#### ** Exponentiation\n"
   ]
  },
  {
   "cell_type": "code",
   "execution_count": 11,
   "id": "96a7c43b",
   "metadata": {},
   "outputs": [
    {
     "data": {
      "text/plain": [
       "17"
      ]
     },
     "execution_count": 11,
     "metadata": {},
     "output_type": "execute_result"
    }
   ],
   "source": [
    "## This a simple arithmetic expression to mutiply then add integers \n",
    "(3*4)+5"
   ]
  },
  {
   "cell_type": "code",
   "execution_count": 12,
   "id": "a2d14deb",
   "metadata": {},
   "outputs": [
    {
     "data": {
      "text/plain": [
       "3.3333333333333335"
      ]
     },
     "execution_count": 12,
     "metadata": {},
     "output_type": "execute_result"
    }
   ],
   "source": [
    "## This will convert 200 minutes to hours by dividing by 60\n",
    "(200/60)"
   ]
  }
 ],
 "metadata": {
  "kernelspec": {
   "display_name": "Python 3 (ipykernel)",
   "language": "python",
   "name": "python3"
  },
  "language_info": {
   "codemirror_mode": {
    "name": "ipython",
    "version": 3
   },
   "file_extension": ".py",
   "mimetype": "text/x-python",
   "name": "python",
   "nbconvert_exporter": "python",
   "pygments_lexer": "ipython3",
   "version": "3.9.12"
  }
 },
 "nbformat": 4,
 "nbformat_minor": 5
}
